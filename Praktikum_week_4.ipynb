{
  "nbformat": 4,
  "nbformat_minor": 0,
  "metadata": {
    "colab": {
      "provenance": [],
      "authorship_tag": "ABX9TyMTAcQ+9I+omlRKTlZ/Z6vw",
      "include_colab_link": true
    },
    "kernelspec": {
      "name": "python3",
      "display_name": "Python 3"
    },
    "language_info": {
      "name": "python"
    }
  },
  "cells": [
    {
      "cell_type": "markdown",
      "metadata": {
        "id": "view-in-github",
        "colab_type": "text"
      },
      "source": [
        "<a href=\"https://colab.research.google.com/github/MayzaLutfiSetyaji/BelajarGit/blob/master/Praktikum_week_4.ipynb\" target=\"_parent\"><img src=\"https://colab.research.google.com/assets/colab-badge.svg\" alt=\"Open In Colab\"/></a>"
      ]
    },
    {
      "cell_type": "code",
      "execution_count": 7,
      "metadata": {
        "colab": {
          "base_uri": "https://localhost:8080/"
        },
        "id": "vwbH29hBRiqa",
        "outputId": "c6b4fb01-d41f-443b-a4ae-3a9941082b9e"
      },
      "outputs": [
        {
          "output_type": "stream",
          "name": "stdout",
          "text": [
            "Masukkan umur anda: 15\n",
            "Tidak boleh membuat sim\n"
          ]
        }
      ],
      "source": [
        "#Latihan 1\n",
        "umur = input(\"Masukkan umur anda:\") #Fungsi untuk menginput umur\n",
        "age=int(umur) #variabel age digunakan untuk memanggil variabel umur yang sudah diinput berupa integer\n",
        "if age >= 17: #fungsi percabangan yang pertama, dimana jika umur lebih atau sama dengan 17 tahun, maka akan lanjut ke proses selanjutnya\n",
        "  print(\"Boleh membuat sim\") #output yang duhasilkan jika umur lebih besar atau sama dengan 17 tahun\n",
        "else : #fungsi dimana jika fungsi diatas tidak terpenuhi, maka fungsi ini akan berjalan\n",
        "  print(\"Tidak boleh membuat sim\") #output yang dihasilkan jika fungsi yang pertama tidak terpenuhi\n",
        "\n",
        "\n",
        "\n",
        "\n"
      ]
    },
    {
      "cell_type": "code",
      "source": [
        "#Latihan 2\n",
        "nilai = input(\"Masukkan nilai:\") #untuk menginput nilai\n",
        "value=int(nilai) #variabel yang dibuat untuk memanggil variabel sebelumnya berupa integer\n",
        "\n",
        "if value >= 90 : #fungsi percabangan pertama\n",
        "  print(\"A\") #output yang dihasilkan dari percabangan pertama\n",
        "elif value >= 80 : #fungsi elif digunakan untuk memeriksa kondisi selanjutnya apabila dari kondisi pada percabangan sebelumnya salah atau false\n",
        "  print(\"B+\") #output yang dihasilkan dari fungsi elif pertama\n",
        "elif value >= 70 :\n",
        "  print(\"B\") #output yang dihasilkan dari fungsi elif kedua\n",
        "elif value >= 60 :\n",
        "  print(\"C+\") #output yang dihasilkan dari fungsi elif ketiga\n",
        "elif value >= 50 :\n",
        "  print(\"C\") #output yang dihasilkan dari fungsi elif keempat\n",
        "elif value >= 40 :\n",
        "  print(\"D\") #output yang dihasilkan dari fungsi elif terakhir\n",
        "else: #fungsi dimana jika fungsi diatas tidak terpenuhi, maka fungsi ini akan berjalan\n",
        "  print(\"E\") #output yang dihasilkan ketika kondisi tidak memenuhi kondisi kondisi diatas\n",
        "\n",
        "\n"
      ],
      "metadata": {
        "colab": {
          "base_uri": "https://localhost:8080/"
        },
        "id": "71ASRGRvYiZY",
        "outputId": "d7788d71-0e32-4676-fee4-56eef9d1baf8"
      },
      "execution_count": 9,
      "outputs": [
        {
          "output_type": "stream",
          "name": "stdout",
          "text": [
            "Masukkan nilai: 20\n",
            "E\n"
          ]
        }
      ]
    },
    {
      "cell_type": "code",
      "source": [
        "#Latihan 3\n",
        "nilai = input(\"Masukkan nilai\") #untuk menginput nilai\n",
        "value=int(nilai) #variabel yang dibuat untuk memanggil variabel sebelumnya berupa integer\n",
        "\n",
        "if 80.00 <=value<= 100 : #fungsi percabangan pertama\n",
        "  print(\"A\") ##output yang dihasilkan dari percabangan pertama\n",
        "elif 77.50 <=value<= 79.99 :#fungsi elif digunakan untuk memeriksa kondisi selanjutnya apabila dari kondisi pada percabangan sebelumnya salah atau false\n",
        "  print(\"A-\") #output yang dihasilkan dari fungsi elif pertama\n",
        "elif 75.00 <=value<= 77.49 :\n",
        "  print(\"A/B\") #output yang dihasilkan dari fungsi elif kedua\n",
        "elif 72.50 <=value<= 74.99 :\n",
        "  print(\"B+\") #output yang dihasilkan dari fungsi elif ketiga\n",
        "elif 70.00 <=value<= 72.49 :\n",
        "  print(\"B\") #output yang dihasilkan dari fungsi elif keempat\n",
        "elif 67.50 <=value<= 69.99 :\n",
        "  print(\"B-\") #output yang dihasilkan dari fungsi elif kelima\n",
        "elif 65.00 <=value<= 67.49 :\n",
        "  print(\"B/C\") #output yang dihasilkan dari fungsi elif keenam\n",
        "elif 62.50 <=value<= 64.99 :\n",
        "  print(\"C+\") #output yang dihasilkan dari fungsi elif ketujuh\n",
        "elif 60.00 <=value<= 62.49 :\n",
        "  print(\"C\") #output yang dihasilkan dari fungsi elif kedelapan\n",
        "elif 55.00 <=value<= 59.99 :\n",
        "  print(\"C-\") #output yang dihasilkan dari fungsi elif kesembilan\n",
        "elif 50.00 <=value<= 54.49 :\n",
        "  print(\"C/D\") #output yang dihasilkan dari fungsi elif kesepuluh\n",
        "elif 45.00 <=value<= 49.99 :\n",
        "  print(\"D+\") #output yang dihasilkan dari fungsi elif kesebelas\n",
        "elif 40.00 <=value<= 44.49 :\n",
        "  print(\"D\")#output yang dihasilkan dari fungsi elif yang terakhir\n",
        "else: #fungsi dimana jika fungsi diatas tidak terpenuhi, maka fungsi ini akan berjalan\n",
        "  print(\"E\") #output yang dihasilkan ketika kondisi tidak memenuhi kondisi kondisi diatas\n",
        "\n",
        "print(\"apapun hasilnya, tetaplah bersyukur karena telah berusaha sekuat tenaga\")\n",
        "print(\"semangat TIF 24!!!\")\n",
        "\n",
        "\n"
      ],
      "metadata": {
        "colab": {
          "base_uri": "https://localhost:8080/"
        },
        "id": "uc3datLUfZTZ",
        "outputId": "afdd8c05-dc73-4182-8b82-c04ba1dae9b4"
      },
      "execution_count": null,
      "outputs": [
        {
          "output_type": "stream",
          "name": "stdout",
          "text": [
            "Masukkan nilai 88\n",
            "A\n",
            "apapun hasilnya, tetaplah bersyukur karena telah berusaha sekuat tenaga\n",
            "semangat TIF 24!!!\n"
          ]
        }
      ]
    }
  ]
}