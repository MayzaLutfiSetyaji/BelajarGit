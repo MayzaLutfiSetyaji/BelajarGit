{
  "nbformat": 4,
  "nbformat_minor": 0,
  "metadata": {
    "colab": {
      "provenance": [],
      "authorship_tag": "ABX9TyMgfY8ONpxiopXKpg3/Wh5B",
      "include_colab_link": true
    },
    "kernelspec": {
      "name": "python3",
      "display_name": "Python 3"
    },
    "language_info": {
      "name": "python"
    }
  },
  "cells": [
    {
      "cell_type": "markdown",
      "metadata": {
        "id": "view-in-github",
        "colab_type": "text"
      },
      "source": [
        "<a href=\"https://colab.research.google.com/github/MayzaLutfiSetyaji/BelajarGit/blob/master/LiveUTS_2420506033.ipynb\" target=\"_parent\"><img src=\"https://colab.research.google.com/assets/colab-badge.svg\" alt=\"Open In Colab\"/></a>"
      ]
    },
    {
      "cell_type": "code",
      "execution_count": 34,
      "metadata": {
        "colab": {
          "base_uri": "https://localhost:8080/",
          "height": 228
        },
        "id": "wQDywucRX_fK",
        "outputId": "8d4e3e72-e5fc-4342-8f21-9968542394cf"
      },
      "outputs": [
        {
          "name": "stdout",
          "output_type": "stream",
          "text": [
            "Masukkan NPM Anda: 2420506033\n"
          ]
        },
        {
          "output_type": "error",
          "ename": "TypeError",
          "evalue": "object of type 'int' has no len()",
          "traceback": [
            "\u001b[0;31m---------------------------------------------------------------------------\u001b[0m",
            "\u001b[0;31mTypeError\u001b[0m                                 Traceback (most recent call last)",
            "\u001b[0;32m<ipython-input-34-29d9c91c8aed>\u001b[0m in \u001b[0;36m<cell line: 6>\u001b[0;34m()\u001b[0m\n\u001b[1;32m      4\u001b[0m \u001b[0mbil_genap\u001b[0m \u001b[0;34m=\u001b[0m \u001b[0;34m(\u001b[0m\u001b[0;36m2\u001b[0m\u001b[0;34m*\u001b[0m\u001b[0mn\u001b[0m\u001b[0;34m)\u001b[0m\u001b[0;34m\u001b[0m\u001b[0;34m\u001b[0m\u001b[0m\n\u001b[1;32m      5\u001b[0m \u001b[0mbil_ganjil\u001b[0m \u001b[0;34m=\u001b[0m \u001b[0;34m(\u001b[0m\u001b[0;36m2\u001b[0m\u001b[0;34m*\u001b[0m\u001b[0mn\u001b[0m\u001b[0;34m+\u001b[0m\u001b[0;36m1\u001b[0m\u001b[0;34m)\u001b[0m\u001b[0;34m\u001b[0m\u001b[0;34m\u001b[0m\u001b[0m\n\u001b[0;32m----> 6\u001b[0;31m \u001b[0;32mif\u001b[0m \u001b[0mlen\u001b[0m\u001b[0;34m(\u001b[0m\u001b[0mn\u001b[0m\u001b[0;34m)\u001b[0m \u001b[0;34m==\u001b[0m \u001b[0mbil_genap\u001b[0m\u001b[0;34m:\u001b[0m\u001b[0;34m\u001b[0m\u001b[0;34m\u001b[0m\u001b[0m\n\u001b[0m\u001b[1;32m      7\u001b[0m   \u001b[0mprint\u001b[0m\u001b[0;34m(\u001b[0m\u001b[0;34m\"NPM Anda genap\"\u001b[0m\u001b[0;34m)\u001b[0m\u001b[0;34m\u001b[0m\u001b[0;34m\u001b[0m\u001b[0m\n\u001b[1;32m      8\u001b[0m \u001b[0;32melif\u001b[0m \u001b[0mlen\u001b[0m\u001b[0;34m(\u001b[0m\u001b[0mn\u001b[0m\u001b[0;34m)\u001b[0m \u001b[0;34m==\u001b[0m \u001b[0mbil_ganjil\u001b[0m\u001b[0;34m:\u001b[0m\u001b[0;34m\u001b[0m\u001b[0;34m\u001b[0m\u001b[0m\n",
            "\u001b[0;31mTypeError\u001b[0m: object of type 'int' has no len()"
          ]
        }
      ],
      "source": [
        "#Jawaban No.1\n",
        "input_NPM = int(input(\"Masukkan NPM Anda: \"))\n",
        "n = input_NPM\n",
        "bil_genap = (2*n)\n",
        "bil_ganjil = (2*n+1)\n",
        "if len(n) == bil_genap:\n",
        "  print(\"NPM Anda genap\")\n",
        "elif len(n) == bil_ganjil:\n",
        "  print(\"NPM Anda ganjil\")\n",
        "\n",
        "\n",
        "\n",
        ""
      ]
    },
    {
      "cell_type": "code",
      "source": [
        "#Jawaban no.2\n",
        "def segitiga_pascal(n): #def merupakan kata kunci untuk mendefinisikan fungsi dari segitiga_pascal\n",
        "  if n <= 0:\n",
        "    return [] #untuk mengembalikan sebuah list kosong\n",
        "  segitiga = [[1]]\n",
        "  for i in range(1, n):\n",
        "    row = [1] #hanya sebuah variabel yang berisi angka 1\n",
        "    for j in range(1, i):\n",
        "      row.append(segitiga[i-1][j-1] + segitiga[i-1][j])\n",
        "    row.append(1) #berfungsi utnuk menambahkan angka 1 sebagai elemen terakhir pada setiap baris segitiga pascal\n",
        "    segitiga.append(row) #menambahkan list row ke dalam list segitiga (segitiga_pascal)\n",
        "  return segitiga\n",
        "\n",
        "num_rows = int(input(\"Masukkan jumlah baris: \"))\n",
        "segitiga = segitiga_pascal(num_rows) #num-rows berisi jumlah baris yang diinput dari variabel num_rows sebelumnya\n",
        "\n",
        "for i in range(num_rows):\n",
        "  # Hitung spasi\n",
        "  spaces = \"\" * (num_rows - i)\n",
        "  print(spaces, end=\" \")\n",
        "  for j in range(i*i):\n",
        "    print(segitiga[i][j}], end=\" \")\n",
        "  print()"
      ],
      "metadata": {
        "colab": {
          "base_uri": "https://localhost:8080/"
        },
        "id": "rnudHpZQbItT",
        "outputId": "31d451a2-49ac-478f-fe1a-9d2c7853a8aa"
      },
      "execution_count": 20,
      "outputs": [
        {
          "output_type": "stream",
          "name": "stdout",
          "text": [
            "Masukkan jumlah baris: 5\n",
            " \n",
            " [1, 1] \n",
            " [1, 2, 1] [1, 2, 1] [1, 2, 1] [1, 2, 1] \n",
            " [1, 3, 3, 1] [1, 3, 3, 1] [1, 3, 3, 1] [1, 3, 3, 1] [1, 3, 3, 1] [1, 3, 3, 1] [1, 3, 3, 1] [1, 3, 3, 1] [1, 3, 3, 1] \n",
            " [1, 4, 6, 4, 1] [1, 4, 6, 4, 1] [1, 4, 6, 4, 1] [1, 4, 6, 4, 1] [1, 4, 6, 4, 1] [1, 4, 6, 4, 1] [1, 4, 6, 4, 1] [1, 4, 6, 4, 1] [1, 4, 6, 4, 1] [1, 4, 6, 4, 1] [1, 4, 6, 4, 1] [1, 4, 6, 4, 1] [1, 4, 6, 4, 1] [1, 4, 6, 4, 1] [1, 4, 6, 4, 1] [1, 4, 6, 4, 1] \n"
          ]
        }
      ]
    }
  ]
}