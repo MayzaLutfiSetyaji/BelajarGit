{
  "nbformat": 4,
  "nbformat_minor": 0,
  "metadata": {
    "colab": {
      "provenance": [],
      "authorship_tag": "ABX9TyNblR44+DNd7qVUO/Lczyt/",
      "include_colab_link": true
    },
    "kernelspec": {
      "name": "python3",
      "display_name": "Python 3"
    },
    "language_info": {
      "name": "python"
    }
  },
  "cells": [
    {
      "cell_type": "markdown",
      "metadata": {
        "id": "view-in-github",
        "colab_type": "text"
      },
      "source": [
        "<a href=\"https://colab.research.google.com/github/MayzaLutfiSetyaji/BelajarGit/blob/master/LiveUTS_2420506033.ipynb\" target=\"_parent\"><img src=\"https://colab.research.google.com/assets/colab-badge.svg\" alt=\"Open In Colab\"/></a>"
      ]
    },
    {
      "cell_type": "code",
      "execution_count": null,
      "metadata": {
        "colab": {
          "base_uri": "https://localhost:8080/"
        },
        "id": "wQDywucRX_fK",
        "outputId": "ad0cb9f4-11f4-40f5-86ae-80f38c071133"
      },
      "outputs": [
        {
          "output_type": "stream",
          "name": "stdout",
          "text": [
            "Masukkan NPM Anda: 2420506033\n",
            "Npm:  2420506033\n",
            "Jumlah angka ganjil:  3\n",
            "Jumlah angka genap:  7\n"
          ]
        }
      ],
      "source": [
        "#Jawaban No.1\n",
        "input_NPM = input(\"Masukkan NPM Anda: \") #untuk menginput NPM\n",
        "\n",
        "ganjil = 0 #penghitungan bilangan dimulai dari angka 0\n",
        "genap = 0 #penghitungan bilangan dimulai dari angka 0\n",
        "\n",
        "for i in input_NPM: #sebuah pengulangan untuk angka yang diinnput\n",
        "  if int(i) % 2 == 0: #jika suatu bilangan dibagi 2 modulusnya 0 dan ditambah 1, maka termasuk bilangan genap\n",
        "    genap += 1 #setelah dibagi, angka kemudian ditambah 1\n",
        "  else:\n",
        "    ganjil += 1 #sebuah fungsi untuk menentukan angka ganjil\n",
        "\n",
        "print(\"Npm: \", input_NPM) #output yang dihasilkan\n",
        "print(\"Jumlah angka ganjil: \", ganjil) #output yang dihasilkan untuk angka ganjil\n",
        "print(\"Jumlah angka genap: \", genap) #output yang dihasilkan untuk angka genap"
      ]
    },
    {
      "cell_type": "code",
      "source": [
        "#Jawaban no.2\n",
        "t=int(input(\"Masukkan Tinggi Segitiga: \")) #variabel untuk menginput tinggi segitiga\n",
        "for i in range(1,t+1): #penghitungan tinggi segitiga dimulai dari angka 1 sampai t+1\n",
        "  for j in range(1,i+1): #penghitungan tinggi segitiga dimulai dari angka 1 sampai i+1\n",
        "    [print(i*j,end=\" \")] #variabel i dan j dikali sehingga tercipta output hasil perkalian dari kedua variabel dan membentuk segitiga\n",
        "  print()"
      ],
      "metadata": {
        "colab": {
          "base_uri": "https://localhost:8080/"
        },
        "id": "rnudHpZQbItT",
        "outputId": "aceb4f27-8184-474f-89f4-9d3d34352130"
      },
      "execution_count": 3,
      "outputs": [
        {
          "output_type": "stream",
          "name": "stdout",
          "text": [
            "Masukkan Tinggi Segitiga: 10\n",
            "1 \n",
            "2 4 \n",
            "3 6 9 \n",
            "4 8 12 16 \n",
            "5 10 15 20 25 \n",
            "6 12 18 24 30 36 \n",
            "7 14 21 28 35 42 49 \n",
            "8 16 24 32 40 48 56 64 \n",
            "9 18 27 36 45 54 63 72 81 \n",
            "10 20 30 40 50 60 70 80 90 100 \n"
          ]
        }
      ]
    }
  ]
}