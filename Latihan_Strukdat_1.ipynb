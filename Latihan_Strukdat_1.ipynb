{
  "nbformat": 4,
  "nbformat_minor": 0,
  "metadata": {
    "colab": {
      "provenance": [],
      "authorship_tag": "ABX9TyMxo3Ho5Ogj+m6kjlIC/OpE",
      "include_colab_link": true
    },
    "kernelspec": {
      "name": "python3",
      "display_name": "Python 3"
    },
    "language_info": {
      "name": "python"
    }
  },
  "cells": [
    {
      "cell_type": "markdown",
      "metadata": {
        "id": "view-in-github",
        "colab_type": "text"
      },
      "source": [
        "<a href=\"https://colab.research.google.com/github/MayzaLutfiSetyaji/BelajarGit/blob/master/Latihan_Strukdat_1.ipynb\" target=\"_parent\"><img src=\"https://colab.research.google.com/assets/colab-badge.svg\" alt=\"Open In Colab\"/></a>"
      ]
    },
    {
      "cell_type": "code",
      "execution_count": null,
      "metadata": {
        "colab": {
          "base_uri": "https://localhost:8080/"
        },
        "id": "W95atO7j7x9y",
        "outputId": "2ae9a4ba-0d53-45ad-c11a-a5d280bb8b6f"
      },
      "outputs": [
        {
          "output_type": "stream",
          "name": "stdout",
          "text": [
            "NPM saya: 2420506033\n",
            "NPM dibawah saya: \n",
            "2420506034, \n",
            "2420506035, \n",
            "2420506036, \n",
            "2420506037\n"
          ]
        }
      ],
      "source": [
        "##Pengimpelentasian Array\n",
        "#Latihan 1: Membuat array\n",
        "#Array 1 dimensi\n",
        "\n",
        "import numpy as num\n",
        "array1 = num.array([2420506033, 2420506034, 2420506035, 2420506036, 2420506037 ])\n",
        "print(f\"NPM saya: {array1[0]}\")\n",
        "print(f\"NPM dibawah saya: \\n{array1[1]}, \\n{array1[2]}, \\n{array1[3]}, \\n{array1[4]}\")\n",
        "\n"
      ]
    },
    {
      "cell_type": "code",
      "source": [
        "#Latihan 2\n",
        "#deklarasi array kosong\n",
        "data = []\n",
        "\n",
        "#inisialisasi array dengan elemen\n",
        "angka = [10, 20, 30, 40, 50]\n",
        "angka.insert(3, 33) #menyisipkan angka di indeks ke-3\n",
        "angka.pop(0)#menghapus indeks ke-0 atau elemen pertama\n",
        "\n",
        "#menampilkan array\n",
        "print(f\"Array angka: {angka}\")"
      ],
      "metadata": {
        "colab": {
          "base_uri": "https://localhost:8080/"
        },
        "id": "NEgTpUZOAzg0",
        "outputId": "2390daed-97ea-44c8-aef8-078f5595b654"
      },
      "execution_count": 6,
      "outputs": [
        {
          "output_type": "stream",
          "name": "stdout",
          "text": [
            "Array angka: [20, 30, 33, 40, 50]\n"
          ]
        }
      ]
    },
    {
      "cell_type": "code",
      "source": [
        "#Latihan 3\n",
        "fakultas = [\"Teknik\", \"FKIP\", \"FISIPOL\", \"PERTANIAN\", \"Ekonomi\"]\n",
        "\n",
        "for f in fakultas:\n",
        "  print(f\"Nama Fakultas: {f}\")"
      ],
      "metadata": {
        "colab": {
          "base_uri": "https://localhost:8080/"
        },
        "id": "oSv7ys8O2UpA",
        "outputId": "0e875819-cd67-43ec-ba02-b69c4dc1c6fb"
      },
      "execution_count": 9,
      "outputs": [
        {
          "output_type": "stream",
          "name": "stdout",
          "text": [
            "Nama Fakultas: Teknik\n",
            "Nama Fakultas: FKIP\n",
            "Nama Fakultas: FISIPOL\n",
            "Nama Fakultas: PERTANIAN\n",
            "Nama Fakultas: Ekonomi\n"
          ]
        }
      ]
    },
    {
      "cell_type": "code",
      "source": [
        "#Latihan 4\n",
        "harga_barang = [3000, 5000, 10000, 1000]\n",
        "print(f\"Menu: {harga_barang}\")#menampilkan seluruh harga barang\n",
        "print(f\"Total belanja: {sum(harga_barang)}\")#menampilkan total harga"
      ],
      "metadata": {
        "colab": {
          "base_uri": "https://localhost:8080/"
        },
        "id": "4CqsYBBa3zZC",
        "outputId": "e9547d30-fac0-4231-b407-27693c98c3c3"
      },
      "execution_count": 13,
      "outputs": [
        {
          "output_type": "stream",
          "name": "stdout",
          "text": [
            "Menu: [3000, 5000, 10000, 1000]\n",
            "Total belanja: 19000\n"
          ]
        }
      ]
    },
    {
      "cell_type": "code",
      "source": [
        "#Latihan 5\n",
        "matriks = [\n",
        "    [1, 2, 3, 4],\n",
        "    [3, 7, 8, 1],\n",
        "    [0, 7, 3, 5]\n",
        "]\n",
        "#menampilkan matriks\n",
        "print(\"Matriks dengan ordo 3x4\")\n",
        "for m in matriks:\n",
        "  print(m)"
      ],
      "metadata": {
        "colab": {
          "base_uri": "https://localhost:8080/"
        },
        "id": "uFMjlR2q7jAe",
        "outputId": "2fc74f9b-c31b-4eb5-ee32-1ed5ce7d42a0"
      },
      "execution_count": 17,
      "outputs": [
        {
          "output_type": "stream",
          "name": "stdout",
          "text": [
            "Matriks dengan ordo 3x4\n",
            "[1, 2, 3, 4]\n",
            "[3, 7, 8, 1]\n",
            "[0, 7, 3, 5]\n"
          ]
        }
      ]
    },
    {
      "cell_type": "code",
      "source": [
        "#Latihan 6\n",
        "matriks = [\n",
        "    [1, 2, 3, 4], #baris 1 dengan indeks 0\n",
        "    [3, 7, 8, 1], #baris 2 dengan indeks 1\n",
        "    [0, 7, 3, 5]  #baris 3 dengan indeks 2\n",
        "]\n",
        "#menampilkan angka pada baris ke 2 kolom 4\n",
        "print(f\"Angka pada baris 2 kolom 4: {matriks[1][3]}\")"
      ],
      "metadata": {
        "colab": {
          "base_uri": "https://localhost:8080/"
        },
        "id": "Kdzwe3Ghayrd",
        "outputId": "0dae31bf-aa5a-4b78-dfe1-843fec98fb36"
      },
      "execution_count": 19,
      "outputs": [
        {
          "output_type": "stream",
          "name": "stdout",
          "text": [
            "Angka pada baris 2 kolom 4: 1\n"
          ]
        }
      ]
    },
    {
      "cell_type": "code",
      "source": [
        "#Latihan 7\n",
        "matriks = [\n",
        "    [6, 5], #tanggal dan bulan lahir\n",
        "    [20, 6] #tahun lahir\n",
        "]\n",
        "\n",
        "for m in matriks:\n",
        "  print(m)"
      ],
      "metadata": {
        "colab": {
          "base_uri": "https://localhost:8080/"
        },
        "id": "mSY7bvkebteM",
        "outputId": "8f61adb4-be18-4fde-939c-c5e508ed570f"
      },
      "execution_count": 24,
      "outputs": [
        {
          "output_type": "stream",
          "name": "stdout",
          "text": [
            "[6, 5]\n",
            "[20, 6]\n"
          ]
        }
      ]
    },
    {
      "cell_type": "code",
      "source": [
        "#Latihan 8\n",
        "matriks = [\n",
        "    [1, 2, 3, 4], #baris 1 dengan indeks 0\n",
        "    [3, 7, 8, 1], #baris 2 dengan indeks 1\n",
        "    [0, 7, 3, 5]  #baris 3 dengan indeks 2\n",
        "]\n",
        "\n",
        "#menghapus elemen ke-3 dari baris terakhir\n",
        "matriks[2].pop(2)\n",
        "print(\"Menghapus elemen ke-3 baris terakhir\")\n",
        "for m in matriks:\n",
        "  print(m)"
      ],
      "metadata": {
        "colab": {
          "base_uri": "https://localhost:8080/"
        },
        "id": "2qjlhzo8cXZh",
        "outputId": "eae3bce6-f95f-4737-b039-97eb02589551"
      },
      "execution_count": 33,
      "outputs": [
        {
          "output_type": "stream",
          "name": "stdout",
          "text": [
            "Menghapus elemen ke-3 baris terakhir\n",
            "[1, 2, 3, 4]\n",
            "[3, 7, 8, 1]\n",
            "[0, 7, 5]\n"
          ]
        }
      ]
    },
    {
      "cell_type": "code",
      "source": [
        "#Latihan 9\n",
        "matriks = [\n",
        "    [1, 2, 3, 4], #baris 1 dengan indeks 0\n",
        "    [3, 7, 8, 1], #baris 2 dengan indeks 1\n",
        "    [0, 7, 3, 5]  #baris 3 dengan indeks 2\n",
        "]\n",
        "#Mengganti baris terakhir kolom terakhir dengan tanggal hari ini\n",
        "matriks[2][3] = 18\n",
        "print(\"Tanggal hari ini pada baris terakhir kolom terakhir\")\n",
        "for m in matriks:\n",
        "  print(m)"
      ],
      "metadata": {
        "colab": {
          "base_uri": "https://localhost:8080/"
        },
        "id": "Y_HpQ0CJfesp",
        "outputId": "c8b75ccb-bbb4-4345-d828-6569d1326363"
      },
      "execution_count": 34,
      "outputs": [
        {
          "output_type": "stream",
          "name": "stdout",
          "text": [
            "Tanggal hari ini pada baris terakhir kolom terakhir\n",
            "[1, 2, 3, 4]\n",
            "[3, 7, 8, 1]\n",
            "[0, 7, 3, 18]\n"
          ]
        }
      ]
    },
    {
      "cell_type": "code",
      "source": [
        "#Latihan 10\n",
        "daftar_belanja = []\n",
        "\n",
        "#Fungsi untuk menambahkan daftar belanja baru\n",
        "def tambah_daftar():\n",
        "  input_daftar_belanja = str(input(\"Masukkan daftar belanja: \"))\n",
        "  daftar_belanja.append(input_daftar_belanja)\n",
        "\n",
        "def hapus_daftar():\n",
        "  input_daftar_belanja = str(input(\"Masukkan daftar belanja: \"))\n",
        "  if input_daftar_belanja not in daftar_belanja:\n",
        "    print(\"Daftar belanja tidak ditemukan\")\n",
        "  else:\n",
        "    daftar_belanja.remove(input_daftar_belanja)\n",
        "    print(\"Daftar belanja berhasil dihapus\")\n",
        "\n",
        "def lihat_daftar():\n",
        "  print(\"Berikut adalah daftar belanja yang tersedia:\")\n",
        "  for d in daftar_belanja:\n",
        "    print(d)\n",
        "\n",
        "while True:\n",
        "  print(\n",
        "      \"Berikut adalah beberapa opsi yang bisa dijalankan:\",\n",
        "      \"\\n1. Tambah daftar\",\n",
        "      \"\\n2. Hapus daftar\",\n",
        "      \"\\n3. Lihat Daftar\"\n",
        "      \"\\n4. Keluar\"\n",
        "      )\n",
        "  opsi = int(input(\"Masukkan opsi (1-3): \"))\n",
        "  if opsi == 4:\n",
        "    break\n",
        "  elif opsi == 1:\n",
        "    tambah_daftar()\n",
        "  elif opsi == 2:\n",
        "    hapus_daftar()\n",
        "  elif opsi == 3:\n",
        "    lihat_daftar()\n",
        "  else:\n",
        "    print(\"Opsi tidak tersedia\")\n",
        "\n"
      ],
      "metadata": {
        "colab": {
          "base_uri": "https://localhost:8080/"
        },
        "id": "6UUrZXvOgNnO",
        "outputId": "ef2a77b0-56a4-4b06-f24b-1bb9ee98340c"
      },
      "execution_count": 38,
      "outputs": [
        {
          "name": "stdout",
          "output_type": "stream",
          "text": [
            "Berikut adalah beberapa opsi yang bisa dijalankan: \n",
            "1. Tambah daftar \n",
            "2. Hapus daftar \n",
            "3. Lihat Daftar\n",
            "4. Keluar\n",
            "Masukkan opsi (1-3): 1\n",
            "Masukkan daftar belanja: mie gelas\n",
            "Berikut adalah beberapa opsi yang bisa dijalankan: \n",
            "1. Tambah daftar \n",
            "2. Hapus daftar \n",
            "3. Lihat Daftar\n",
            "4. Keluar\n",
            "Masukkan opsi (1-3): 1\n",
            "Masukkan daftar belanja: Surya 12\n",
            "Berikut adalah beberapa opsi yang bisa dijalankan: \n",
            "1. Tambah daftar \n",
            "2. Hapus daftar \n",
            "3. Lihat Daftar\n",
            "4. Keluar\n",
            "Masukkan opsi (1-3): 1\n",
            "Masukkan daftar belanja: Obat Nyamuk\n",
            "Berikut adalah beberapa opsi yang bisa dijalankan: \n",
            "1. Tambah daftar \n",
            "2. Hapus daftar \n",
            "3. Lihat Daftar\n",
            "4. Keluar\n",
            "Masukkan opsi (1-3): 3\n",
            "Berikut adalah daftar belanja yang tersedia:\n",
            "mie gelas\n",
            "Surya 12\n",
            "Obat Nyamuk\n",
            "Berikut adalah beberapa opsi yang bisa dijalankan: \n",
            "1. Tambah daftar \n",
            "2. Hapus daftar \n",
            "3. Lihat Daftar\n",
            "4. Keluar\n",
            "Masukkan opsi (1-3): 2\n",
            "Masukkan daftar belanja: mie gelas\n",
            "Daftar belanja berhasil dihapus\n",
            "Berikut adalah beberapa opsi yang bisa dijalankan: \n",
            "1. Tambah daftar \n",
            "2. Hapus daftar \n",
            "3. Lihat Daftar\n",
            "4. Keluar\n",
            "Masukkan opsi (1-3): 3\n",
            "Berikut adalah daftar belanja yang tersedia:\n",
            "Surya 12\n",
            "Obat Nyamuk\n",
            "Berikut adalah beberapa opsi yang bisa dijalankan: \n",
            "1. Tambah daftar \n",
            "2. Hapus daftar \n",
            "3. Lihat Daftar\n",
            "4. Keluar\n",
            "Masukkan opsi (1-3): 2\n",
            "Masukkan daftar belanja: Surya 16\n",
            "Daftar belanja tidak ditemukan\n",
            "Berikut adalah beberapa opsi yang bisa dijalankan: \n",
            "1. Tambah daftar \n",
            "2. Hapus daftar \n",
            "3. Lihat Daftar\n",
            "4. Keluar\n",
            "Masukkan opsi (1-3): 4\n"
          ]
        }
      ]
    }
  ]
}