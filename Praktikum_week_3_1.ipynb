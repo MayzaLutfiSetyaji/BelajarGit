{
  "nbformat": 4,
  "nbformat_minor": 0,
  "metadata": {
    "colab": {
      "provenance": [],
      "mount_file_id": "13wQsKOk5YIEXSEBVofgcbIGl_gjLLKY1",
      "authorship_tag": "ABX9TyNoVOLqzTswR0Kc/ZYiQx8S",
      "include_colab_link": true
    },
    "kernelspec": {
      "name": "python3",
      "display_name": "Python 3"
    },
    "language_info": {
      "name": "python"
    }
  },
  "cells": [
    {
      "cell_type": "markdown",
      "metadata": {
        "id": "view-in-github",
        "colab_type": "text"
      },
      "source": [
        "<a href=\"https://colab.research.google.com/github/MayzaLutfiSetyaji/BelajarGit/blob/master/Praktikum_week_3_1.ipynb\" target=\"_parent\"><img src=\"https://colab.research.google.com/assets/colab-badge.svg\" alt=\"Open In Colab\"/></a>"
      ]
    },
    {
      "cell_type": "code",
      "execution_count": null,
      "metadata": {
        "id": "-d4Mt1trb9Yl"
      },
      "outputs": [],
      "source": [
        "with open(\"/content/drive/MyDrive/Biodata.txt\", \"w\") as writefile:\n",
        "  writefile.write(\"Nama         : Mayza Lutfi Setyaji\\n\")\n",
        "  writefile.write(\"NPM          : 2420506033\\n\")\n",
        "  writefile.write(\"Program Studi: Teknologi Informasi\\n\")\n",
        "  writefile.write(\"Alamat       : Desa Jatiroto, Buayan, Kebumen, Jawa Tengah\\n\")\n",
        "  writefile.write(\"Email        : mayzalutfixxx@gmail.com\\n\")\n"
      ]
    },
    {
      "cell_type": "code",
      "source": [
        "with open(\"/content/drive/MyDrive/Biodata.txt\", \"r\") as writefile:\n",
        "  print(writefile.read())"
      ],
      "metadata": {
        "colab": {
          "base_uri": "https://localhost:8080/"
        },
        "id": "55nsVUomgdcm",
        "outputId": "4b9f1565-e8ee-4c37-8a81-be64f3a0d179"
      },
      "execution_count": null,
      "outputs": [
        {
          "output_type": "stream",
          "name": "stdout",
          "text": [
            "Nama: Mayza Lutfi Setyaji\n",
            "NPM:2420506033\n",
            "Program Studi: Teknologi Informasi\n",
            "Alamat:Desa Jatiroto, Buayan, Kebumen, Jawa Tengah\n",
            "Email:mayzalutfixxx@gmail.com\n",
            "\n"
          ]
        }
      ]
    },
    {
      "cell_type": "code",
      "source": [
        "with open(\"/content/drive/MyDrive/Biodata 2.txt\", \"w\") as writefile:\n",
        "  writefile.write(\"Nama: Mayza Lutfi Setyaji\\n\")\n",
        "  writefile.write(\"NPM:2420506033\\n\")\n",
        "  writefile.write(\"Program Studi: Teknologi Informasi\\n\")\n",
        "  writefile.write(\"Alamat:Desa Jatiroto, Buayan, Kebumen, Jawa Tengah\\n\")\n",
        "  writefile.write(\"Email:mayzalutfixxx@gmail.com\\n\")\n",
        "\n"
      ],
      "metadata": {
        "id": "ZAEps-Gjjt5c"
      },
      "execution_count": null,
      "outputs": []
    },
    {
      "cell_type": "code",
      "source": [
        "with open(\"Biodata2.txt\", \"r\") as writefile:\n",
        "  print(writefile.read())"
      ],
      "metadata": {
        "colab": {
          "base_uri": "https://localhost:8080/"
        },
        "id": "w2VLPzYLj3af",
        "outputId": "b83f24ee-95f3-418a-f1b3-099532231ba8"
      },
      "execution_count": null,
      "outputs": [
        {
          "output_type": "stream",
          "name": "stdout",
          "text": [
            "Nama: Mayza Lutfi Setyaji\n",
            "NPM:2420506033\n",
            "Program Studi: Teknologi Informasi\n",
            "Alamat:Desa Jatiroto, Buayan, Kebumen, Jawa Tengah\n",
            "Email:mayzalutfixxx@gmail.com\n",
            "\n"
          ]
        }
      ]
    }
  ]
}