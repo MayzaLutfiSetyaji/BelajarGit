{
  "nbformat": 4,
  "nbformat_minor": 0,
  "metadata": {
    "colab": {
      "provenance": [],
      "authorship_tag": "ABX9TyMFu6mm59o/QyAL8YAG/EyK",
      "include_colab_link": true
    },
    "kernelspec": {
      "name": "python3",
      "display_name": "Python 3"
    },
    "language_info": {
      "name": "python"
    }
  },
  "cells": [
    {
      "cell_type": "markdown",
      "metadata": {
        "id": "view-in-github",
        "colab_type": "text"
      },
      "source": [
        "<a href=\"https://colab.research.google.com/github/MayzaLutfiSetyaji/BelajarGit/blob/master/Praktikum_week_13.ipynb\" target=\"_parent\"><img src=\"https://colab.research.google.com/assets/colab-badge.svg\" alt=\"Open In Colab\"/></a>"
      ]
    },
    {
      "cell_type": "code",
      "source": [
        "class Alat_Tulis:\n",
        "    def __init__(self, jenis, harga, stok):\n",
        "        self.jenis = jenis\n",
        "        self.harga = harga\n",
        "        self.stok = stok\n",
        "        self.total = harga * stok\n",
        "\n",
        "    def set_jenis(self, jenis):\n",
        "        self.jenis = jenis\n",
        "\n",
        "    def set_harga(self, harga):\n",
        "        self.harga = harga\n",
        "\n",
        "    def set_stok(self, stok):\n",
        "        self.stok = stok\n",
        "\n",
        "    def set_total(self):\n",
        "        self.total = self.harga * self.stok  # Memperbaiki perhitungan total\n",
        "\n",
        "    def get_jenis(self):\n",
        "        return self.jenis\n",
        "\n",
        "    def get_harga(self):\n",
        "        return self.harga\n",
        "\n",
        "    def get_stok(self):\n",
        "        return self.stok\n",
        "\n",
        "class penjualan:\n",
        "    def __init__(self):\n",
        "        self.Total_semua = 0\n",
        "        self.daftar_alat_tulis = [] # Menambahkan list untuk menyimpan alat tulis\n",
        "\n",
        "    def tambah_alat_tulis(self, alat_tulis):\n",
        "        self.daftar_alat_tulis.append(alat_tulis) # Menambahkan alat tulis ke list\n",
        "\n",
        "    def get_total_harga(self):\n",
        "        self.Total_semua = 0 # Mereset total sebelum menghitung\n",
        "        for alat_tulis in self.daftar_alat_tulis:\n",
        "            self.Total_semua += alat_tulis.harga * alat_tulis.stok # Menghitung total harga\n",
        "        return self.Total_semua\n",
        "\n",
        "\n",
        "Bolpoin = Alat_Tulis(\"Bolpoin\", 2000, 10)\n",
        "Pensil = Alat_Tulis(\"Pensil\", 1000, 10)\n",
        "Penghapus = Alat_Tulis(\"Penghapus\", 500, 10)\n",
        "Transaksi = penjualan()\n",
        "\n",
        "# Menambahkan alat tulis ke transaksi\n",
        "Transaksi.tambah_alat_tulis(Bolpoin)\n",
        "Transaksi.tambah_alat_tulis(Pensil)\n",
        "Transaksi.tambah_alat_tulis(Penghapus)\n",
        "\n",
        "print(Bolpoin.jenis)\n",
        "print(\"Harga:\", \"Rp.\", Bolpoin.harga)\n",
        "print(\"Stok:\", Bolpoin.stok)\n",
        "print(\"Total:\", Bolpoin.total)\n",
        "print()\n",
        "print(Pensil.jenis)\n",
        "print(\"Harga:\", \"RP.\", Pensil.harga)\n",
        "print(\"Stok:\", Pensil.stok)\n",
        "print(\"Total:\", Pensil.total)\n",
        "print()\n",
        "print(Penghapus.jenis)\n",
        "print(\"Harga:\", \"Rp.\", Penghapus.harga)\n",
        "print(\"Stok:\", Penghapus.stok)\n",
        "print(\"Total:\", Penghapus.total)\n",
        "print()\n",
        "print(f\"Total harga transaksi: Rp. {Transaksi.get_total_harga()}\")"
      ],
      "metadata": {
        "colab": {
          "base_uri": "https://localhost:8080/"
        },
        "id": "y5nod3ywKMmB",
        "outputId": "a9a76063-e504-4c62-d159-6831f1900d15"
      },
      "execution_count": 1,
      "outputs": [
        {
          "output_type": "stream",
          "name": "stdout",
          "text": [
            "Bolpoin\n",
            "Harga: Rp. 2000\n",
            "Stok: 10\n",
            "Total: 20000\n",
            "\n",
            "Pensil\n",
            "Harga: RP. 1000\n",
            "Stok: 10\n",
            "Total: 10000\n",
            "\n",
            "Penghapus\n",
            "Harga: Rp. 500\n",
            "Stok: 10\n",
            "Total: 5000\n",
            "\n",
            "Total harga transaksi: Rp. 35000\n"
          ]
        }
      ]
    }
  ]
}