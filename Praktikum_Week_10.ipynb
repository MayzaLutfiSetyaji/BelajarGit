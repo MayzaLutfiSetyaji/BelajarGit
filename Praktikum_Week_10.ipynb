{
  "nbformat": 4,
  "nbformat_minor": 0,
  "metadata": {
    "colab": {
      "provenance": [],
      "authorship_tag": "ABX9TyOB+KM9NXHlm8sj9plcrLv2",
      "include_colab_link": true
    },
    "kernelspec": {
      "name": "python3",
      "display_name": "Python 3"
    },
    "language_info": {
      "name": "python"
    }
  },
  "cells": [
    {
      "cell_type": "markdown",
      "metadata": {
        "id": "view-in-github",
        "colab_type": "text"
      },
      "source": [
        "<a href=\"https://colab.research.google.com/github/MayzaLutfiSetyaji/BelajarGit/blob/master/Praktikum_Week_10.ipynb\" target=\"_parent\"><img src=\"https://colab.research.google.com/assets/colab-badge.svg\" alt=\"Open In Colab\"/></a>"
      ]
    },
    {
      "cell_type": "code",
      "source": [
        "#Latihan 1 #Membuat kode program yang menampilkan nilai faktorial dari angka yang diinput\n",
        "def faktorial_rekursif(n): #fungsi rekursif\n",
        "  if n == 0:  # Kasus dasar rekursif matematika: 0! = 1\n",
        "    return 1\n",
        "  else:\n",
        "    return n * faktorial_rekursif(n - 1)  # Elemen dalam paramater n dikali dengan nilai pada faktorial_rekursif yang seterusnya nilai n dikurangi 1\n",
        "\n",
        "# Meminta input dari pengguna\n",
        "angka = int(input(\"Masukkan angka yang ingin dihitung faktorialnya: \"))\n",
        "\n",
        "# Memanggil fungsi faktorial_rekursif dan mencetak hasilnya\n",
        "faktorial_angka = faktorial_rekursif(angka) #Variabel faktorial_angka dibuat untuk menampilkan fungsi rekursif faktorial_rekursif\n",
        "print(f\"Faktorial dari {angka} adalah: {faktorial_angka}\")"
      ],
      "metadata": {
        "colab": {
          "base_uri": "https://localhost:8080/"
        },
        "id": "dnmBzaLiqFAh",
        "outputId": "1fc73551-2892-45f0-e83d-04a78b47b2fe"
      },
      "execution_count": null,
      "outputs": [
        {
          "output_type": "stream",
          "name": "stdout",
          "text": [
            "Masukkan angka yang ingin dihitung faktorialnya: 5\n",
            "Faktorial dari 5 adalah: 120\n"
          ]
        }
      ]
    },
    {
      "cell_type": "code",
      "source": [
        "#Latihan 2 #membuat kode program untuk menghitung luas lingkaran, persegi dan segitiga\n",
        "import math #Mengimport modul math yang berisi fungsi-fungsi matematika\n",
        "\n",
        "def luas_lingkaran(jari_jari): #Fungsi luas_lingkaran menerima parameter yang dibutuhkan yaitu jari_jari\n",
        "  \"\"\"Menghitung luas lingkaran.\n",
        "\n",
        "  Args:\n",
        "    jari_jari: Jari-jari lingkaran.\n",
        "\n",
        "  Returns:\n",
        "    Luas lingkaran.\n",
        "  \"\"\"\n",
        "  return math.pi * jari_jari**2 #Rumus matematika dari penghitungan luas lingkaran yang diimport melalui modul math yaitu pi (3,14)\n",
        "\n",
        "def luas_persegi(sisi):  #Fungsi luas_persegi menerima parameter yang dibutuhkan yaitu sisi\n",
        "  \"\"\"Menghitung luas persegi.\n",
        "\n",
        "  Args:\n",
        "    sisi: Panjang sisi persegi.\n",
        "\n",
        "  Returns:\n",
        "    Luas persegi.\n",
        "  \"\"\"\n",
        "  return sisi**2 #Rumus penghitungan luas persegi\n",
        "\n",
        "def luas_segitiga(alas, tinggi): #Fungsi luas_segitiga menerima parameter yang dibutuhkan yaitu alas dan tinggi\n",
        "  \"\"\"Menghitung luas segitiga.\n",
        "\n",
        "  Args:\n",
        "    alas: Panjang alas segitiga.\n",
        "    tinggi: Tinggi segitiga.\n",
        "\n",
        "  Returns:\n",
        "    Luas segitiga.\n",
        "  \"\"\"\n",
        "  return 0.5 * alas * tinggi #rumus penghitungan luas segitiga\n",
        "\n",
        "while True: #Loop yang akan berjalan terus menerus sampai dihentikan secara eksplisit\n",
        "  print(\"\\nPilihan Perhitungan:\") #Menampilkan menu pilihan perhitungan\n",
        "  print(\"1. Luas Lingkaran\")\n",
        "  print(\"2. Luas Persegi\")\n",
        "  print(\"3. Luas Segitiga\")\n",
        "  print(\"4. Selesai\")\n",
        "\n",
        "  pilihan = input(\"Masukkan pilihan Anda (1-4): \") #User diminta untuk menginput nomor yang sesuai dengan opsi perhitungan\n",
        "\n",
        "  if pilihan == '1':\n",
        "    jari_jari = float(input(\"Masukkan jari-jari lingkaran: \")) #menginput jari jari lingkaran dengan tipe data float\n",
        "    luas = luas_lingkaran(jari_jari)\n",
        "    print(f\"Luas lingkaran: {luas}\")\n",
        "  elif pilihan == '2':\n",
        "    sisi = float(input(\"Masukkan panjang sisi persegi: \")) #menginput panjang sisi persegi dengan tipe data float\n",
        "    luas = luas_persegi(sisi)\n",
        "    print(f\"Luas persegi: {luas}\")\n",
        "  elif pilihan == '3':\n",
        "    alas = float(input(\"Masukkan panjang alas segitiga: \")) #menginput panjang alas segitiga dengan tipe data float\n",
        "    tinggi = float(input(\"Masukkan tinggi segitiga: \")) #menginput tinggi segitiga dengan tipe data float\n",
        "    luas = luas_segitiga(alas, tinggi)\n",
        "    print(f\"Luas segitiga: {luas}\")\n",
        "  elif pilihan == '4':\n",
        "    break #Fungsi ini akan berjalan apabila user ingin mmenghentikan proses penghitungan\n",
        "  else:\n",
        "    print(\"Pilihan tidak valid. Silakan coba lagi.\") #Kondisi dimana jika user menginput opsi yang tidak sesuai dengan ketentuan\n",
        "\n",
        "print(\"Program selesai.\")\n"
      ],
      "metadata": {
        "colab": {
          "base_uri": "https://localhost:8080/"
        },
        "id": "TxaAnEYquVPn",
        "outputId": "b8e120c2-aa51-4887-c2e7-b775cea0b290"
      },
      "execution_count": null,
      "outputs": [
        {
          "output_type": "stream",
          "name": "stdout",
          "text": [
            "\n",
            "Pilihan Perhitungan:\n",
            "1. Luas Lingkaran\n",
            "2. Luas Persegi\n",
            "3. Luas Segitiga\n",
            "4. Selesai\n",
            "Masukkan pilihan Anda (1-4): 1\n",
            "Masukkan jari-jari lingkaran: 5\n",
            "Luas lingkaran: 78.53981633974483\n",
            "\n",
            "Pilihan Perhitungan:\n",
            "1. Luas Lingkaran\n",
            "2. Luas Persegi\n",
            "3. Luas Segitiga\n",
            "4. Selesai\n",
            "Masukkan pilihan Anda (1-4): 4\n",
            "Program selesai.\n"
          ]
        }
      ]
    }
  ]
}