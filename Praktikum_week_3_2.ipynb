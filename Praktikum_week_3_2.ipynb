{
  "nbformat": 4,
  "nbformat_minor": 0,
  "metadata": {
    "colab": {
      "provenance": [],
      "mount_file_id": "1kgU3cw1UeqKfZRB7Cqc_e543IISYu2BL",
      "authorship_tag": "ABX9TyPHWrbpvJsxlRRTAOga7A0e",
      "include_colab_link": true
    },
    "kernelspec": {
      "name": "python3",
      "display_name": "Python 3"
    },
    "language_info": {
      "name": "python"
    }
  },
  "cells": [
    {
      "cell_type": "markdown",
      "metadata": {
        "id": "view-in-github",
        "colab_type": "text"
      },
      "source": [
        "<a href=\"https://colab.research.google.com/github/MayzaLutfiSetyaji/BelajarGit/blob/master/Praktikum_week_3_2.ipynb\" target=\"_parent\"><img src=\"https://colab.research.google.com/assets/colab-badge.svg\" alt=\"Open In Colab\"/></a>"
      ]
    },
    {
      "cell_type": "code",
      "execution_count": null,
      "metadata": {
        "id": "LUYsfWiqo4e1",
        "colab": {
          "base_uri": "https://localhost:8080/"
        },
        "outputId": "8ea2a889-49b1-47d8-fa19-15217999f92b"
      },
      "outputs": [
        {
          "output_type": "stream",
          "name": "stdout",
          "text": [
            "Selamat datang di Toko Maju Jaya\n",
            "Senin, 4 September 2023 13.05\n",
            "DAFTAR BELANJA :\n",
            "Sabun = Rp 10000\n",
            "Shampo = Rp 15000\n",
            "Mie instant = Rp 5000\n",
            "Detergen = Rp 17500\n",
            "\n",
            "Total = Rp  47500\n"
          ]
        }
      ],
      "source": [
        "print(\"Selamat datang di Toko Maju Jaya\")\n",
        "print(\"Senin, 4 September 2023 13.05\")\n",
        "print(\"DAFTAR BELANJA :\")\n",
        "\n",
        "item1 = \"Sabun\"\n",
        "item2 = \"Shampo\"\n",
        "item3 = \"Mie instant\"\n",
        "item4 = \"Detergen\"\n",
        "\n",
        "harga1 = 10000\n",
        "harga2 = 15000\n",
        "harga3 = 5000\n",
        "harga4 = 17500\n",
        "\n",
        "total = harga1 + harga2 + harga3 + harga4\n",
        "\n",
        "print(item1, \"= Rp\", harga1)\n",
        "print(item2, \"= Rp\", harga2)\n",
        "print(item3, \"= Rp\", harga3)\n",
        "print(item4, \"= Rp\", harga4)\n",
        "\n",
        "\n",
        "print(\"\\nTotal = Rp \", total)\n",
        "\n",
        "with open('/content/drive/MyDrive/Kuitansi.txt', 'w') as writefile:\n",
        "        writefile.write(\"Selamat Datang di Toko Maju Jaya\\n\")\n",
        "        writefile.write(\"DAFTAR BELANJA :\\n\")\n",
        "        writefile.write(\"Kuitansi - 4 Septermber 2023\\n\\n\")\n",
        "        writefile.write(item1+ \"=Rp\" + str (harga1) + \"\\n\")\n",
        "        writefile.write(item2+ \"=Rp\" + str (harga2) + \"\\n\")\n",
        "        writefile.write(item3+ \"=Rp\" + str (harga3) + \"\\n\")\n",
        "        writefile.write(item4+ \"=Rp\" + str (harga4) + \"\\n\\n\")\n",
        "        writefile.write(\"Total Belanja =Rp \" + str (total))"
      ]
    }
  ]
}