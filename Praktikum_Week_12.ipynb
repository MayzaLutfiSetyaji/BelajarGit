{
  "cells": [
    {
      "cell_type": "markdown",
      "metadata": {
        "id": "view-in-github",
        "colab_type": "text"
      },
      "source": [
        "<a href=\"https://colab.research.google.com/github/MayzaLutfiSetyaji/BelajarGit/blob/master/Praktikum_Week_12.ipynb\" target=\"_parent\"><img src=\"https://colab.research.google.com/assets/colab-badge.svg\" alt=\"Open In Colab\"/></a>"
      ]
    },
    {
      "cell_type": "code",
      "execution_count": 13,
      "metadata": {
        "colab": {
          "base_uri": "https://localhost:8080/"
        },
        "id": "7LCUSUzFy_DE",
        "outputId": "82a8a738-13ac-4c6f-c020-971a5feae792"
      },
      "outputs": [
        {
          "output_type": "stream",
          "name": "stdout",
          "text": [
            "Beberapa opsi bangun datar yang tersedia: \n",
            "1. Lingkaran \n",
            "2. Persegi\n",
            "Pilih opsi bangun datar untuk menghitung luasnya: 2\n",
            "Masukkan sisi persegi: gh\n",
            "Sisi persegi harus berupa angka!!\n"
          ]
        }
      ],
      "source": [
        "#Latihan 1 #Membuat kode program yang mengimmport modul\n",
        "print(\"Beberapa opsi bangun datar yang tersedia: \"\n",
        "    \"\\n1. Lingkaran\", \"\\n2. Persegi\"\n",
        "    )\n",
        "import math #mengimport modul math bawaan dari Python\n",
        "from matematika import L_ling, L_persegi #mengimport fungsi dari modul matematika yang dibuat di notepad\n",
        "\n",
        "try: #Akan mengeksekusi kode yang berpotensi exception\n",
        "  opsi = input(\"Pilih opsi bangun datar untuk menghitung luasnya: \") #memilih opsi luas bangun datar yang ingin dicari\n",
        "except ValueError: #Kode ini aka dijalankan jika terdapat exception pada kode sebelumnya\n",
        "  print(\"Opsi yang dipilih tidak tersedia\")\n",
        "finally: #Kode akan berjalan ketika eksekusi pada try dan except telah selesai\n",
        "  if opsi == \"1\" or opsi == \"Lingkaran\": #seleksi kondisi pertama\n",
        "    r = input(\"Masukkan jari-jari lingkaran: \") #input jari-jari berupa tipe data float\n",
        "    if not r: #Kondisi akan berjalan ketika user tidak memasukkan angka\n",
        "      print(\"Masukkan jari-jari terlebih dahulu!!\")\n",
        "    else:\n",
        "      try:\n",
        "        r = float(r) #r diubah tipe datanya menjadi float\n",
        "        print(\"Luas lingkaran adalah: \", L_ling(r)) #menampilkan luas lingkaran yang telah dihitung\n",
        "      except ValueError: #kode aka berjalan ketika user memasukkan input selain angka\n",
        "        print(\"Jari-jari harus berupa angka!!\")\n",
        "  elif opsi == \"2\" or opsi == \"Persegi\": #seleksi kondisi kedua\n",
        "    s = input(\"Masukkan sisi persegi: \") #input sisi persegi bertipe data integer\n",
        "    if not s: #kondisi aka berjalan ketika user tidak memasukkan angka\n",
        "      print(\"Masukkan sisi persegi terlebih dahulu!!\")\n",
        "    else:\n",
        "      try:\n",
        "        s = float(s) #s diubah tipe datanya menjadi float\n",
        "        print(\"Luas persegi adalah: \", L_persegi(s))#menampilkan luas persegi yang telah dihitung\n",
        "      except ValueError: #Kondisi aka berjalan ketika user menginput selain angka\n",
        "        print(\"Sisi persegi harus berupa angka!!\")\n",
        "  else: #seleksi kondisi ketiga\n",
        "    print(\"Opsi yang dipilih tidak tersedia\")"
      ]
    },
    {
      "cell_type": "code",
      "execution_count": null,
      "metadata": {
        "colab": {
          "base_uri": "https://localhost:8080/"
        },
        "id": "0OD7358RZzzH",
        "outputId": "2b821025-120c-4dd2-8d40-76bb93f12394"
      },
      "outputs": [
        {
          "name": "stdout",
          "output_type": "stream",
          "text": [
            "Masukkan NPM Anda: 2420506033\n",
            "Npm:  2420506033 \n",
            "Jumlah angka ganjil:  3 \n",
            "Jumlah angka genap:  7\n"
          ]
        }
      ],
      "source": [
        "#Latihan 2\n",
        "try: #akan mengecek apakah terdapat sebuah exception pada saat kode dieksekusi\n",
        "  input_NPM = input(\"Masukkan NPM Anda: \") #untuk menginput NPM\n",
        "except TypeError: #akan dijalankan ketika terdapat exception berupa user menginput selain angka\n",
        "  print(\"NPM harus berupa angka!!\")\n",
        "finally: #kondisi akan berjalan ketika try dan except telah selesai dieksekusi\n",
        "  ganjil = 0 #penghitungan bilangan dimulai dari angka 0\n",
        "  genap = 0 #penghitungan bilangan dimulai dari angka 0\n",
        "\n",
        "  for digit_char in input_NPM:\n",
        "    try: #akan mengecek kode apakah terdapat exception atau tidak\n",
        "      digit = int(digit_char)\n",
        "      if digit % 2 == 0:\n",
        "        genap += 1\n",
        "      else:\n",
        "        ganjil += 1\n",
        "    except ValueError: #kondisi akan berjalan keetika user menginput selain angka\n",
        "      print(f\"Karakter\", {digit_char}, \"yang tertera bukan termasuk angka!!\")\n",
        "\n",
        "\n",
        "\n",
        "print(\n",
        "    \"Npm: \", input_NPM,\n",
        "    \"\\nJumlah angka ganjil: \", ganjil,\n",
        "    \"\\nJumlah angka genap: \", genap\n",
        "    )\n",
        "\n"
      ]
    }
  ],
  "metadata": {
    "colab": {
      "provenance": [],
      "authorship_tag": "ABX9TyOdKL2IWfvSase5SgsmsY7S",
      "include_colab_link": true
    },
    "kernelspec": {
      "display_name": "Python 3",
      "name": "python3"
    },
    "language_info": {
      "name": "python"
    }
  },
  "nbformat": 4,
  "nbformat_minor": 0
}