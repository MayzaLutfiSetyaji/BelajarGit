{
  "nbformat": 4,
  "nbformat_minor": 0,
  "metadata": {
    "colab": {
      "provenance": [],
      "authorship_tag": "ABX9TyMF0DVJedTkOZRS/3WrDx3t",
      "include_colab_link": true
    },
    "kernelspec": {
      "name": "python3",
      "display_name": "Python 3"
    },
    "language_info": {
      "name": "python"
    }
  },
  "cells": [
    {
      "cell_type": "markdown",
      "metadata": {
        "id": "view-in-github",
        "colab_type": "text"
      },
      "source": [
        "<a href=\"https://colab.research.google.com/github/MayzaLutfiSetyaji/BelajarGit/blob/master/Praktikum_Week_5.ipynb\" target=\"_parent\"><img src=\"https://colab.research.google.com/assets/colab-badge.svg\" alt=\"Open In Colab\"/></a>"
      ]
    },
    {
      "cell_type": "code",
      "execution_count": null,
      "metadata": {
        "colab": {
          "base_uri": "https://localhost:8080/"
        },
        "id": "zi-RMOmQfOpk",
        "outputId": "2c2dfbed-7d99-4110-8e31-7b33b8a94337"
      },
      "outputs": [
        {
          "output_type": "stream",
          "name": "stdout",
          "text": [
            "Masukkan tahun:  2024\n",
            "2024 adalah tahun kabisat\n"
          ]
        }
      ],
      "source": [
        "#Latihan 1 #membuat input tahun kabisat\n",
        "input_tahun = int(input(\"Masukkan tahun: \")) #menginput tahun yang ingin dicek #menggunakan operator sisa bagi atau modulus untuk mengetahui sisa dari pembagian tahun #Operator modulus (%)\n",
        "if (input_tahun % 4 == 0 and input_tahun % 100 != 0) or (input_tahun % 400 == 0): #jika sisa bagi tahun dibagi 4 atau 400 adalah 0, maka tahun tersebut termasuk tahun kabisat\n",
        "    print(f\"{input_tahun} adalah tahun kabisat\") #jika sisa bagi tahun dibagi 100 adalah 0 maka bukan tahun kabisat\n",
        "    #output yang keluar jika tahun termasuk tahun kabisat\n",
        "else:\n",
        "    print(f\"{input_tahun} bukan tahun kabisat\") #output yang keluar apabila tahun bukan tahun kabisat"
      ]
    },
    {
      "cell_type": "code",
      "source": [
        "#Latihan 2 #kode program untuk menunjukkan angka terbesar berdasarkan 3 angka yang di inputkan\n",
        "input_angka1 = int(input(\"Masukkan angka pertama: \"))\n",
        "input_angka2 = int(input(\"Masukkan angka kedua: \"))   #3 angka yang akan diinput\n",
        "input_angka3 = int(input(\"Masukkan angka ketiga: \"))\n",
        "\n",
        "if input_angka1 >= input_angka2 and input_angka1 >= input_angka3: #kondisi apabila angka pertama lebih besar atau sama dengan angka kedua dan angka ketiga\n",
        "    print(f\"{input_angka1} adalah angka terbesar\") #output yang keluar apabila angka pertama merupakan angka terbesar\n",
        "\n",
        "elif input_angka2 >= input_angka1 and input_angka2 >= input_angka3: #kondisi apabila angka kedua lebih besar atau sama dengan angka pertama dan angka ketiga\n",
        "    print(f\"{input_angka2} adalah angka terbesar\") #output yang keluar apabila angka kedua merupakan angka terbesar\n",
        "else:                   #kondisi dimana angka pertama dan kedua bukanlah angka terbesar\n",
        "    print(f\"{input_angka3} adalah angka terbesar\") #output yang dihasilkan apabila angka ketiga merupakan angka terbesar\n"
      ],
      "metadata": {
        "colab": {
          "base_uri": "https://localhost:8080/"
        },
        "id": "7Ryd89vmgGfV",
        "outputId": "9bc5e836-de80-44c4-8c6c-8064e035ab2f"
      },
      "execution_count": null,
      "outputs": [
        {
          "output_type": "stream",
          "name": "stdout",
          "text": [
            "Masukkan angka pertama:  12\n",
            "Masukkan angka kedua:  34\n",
            "Masukkan angka ketiga: 45\n",
            "45 adalah angka terbesar\n"
          ]
        }
      ]
    },
    {
      "cell_type": "code",
      "source": [
        "#Latihan 3 # kode program untuk menghitung jumlah yang harus dibayarkan konsumen\n",
        "input_tipe_konsumen = str(input(\"Masukkan tipe konsumen: \")) #menginput tipe konsumen\n",
        "if input_tipe_konsumen == \"non-member\": #disini saya hanya akan menyediakan 2 opsi untuk diinput yaitu non-member dan member\n",
        "    print(\"Anda adalah non-member\") #output yang dihasilkan dari input member\n",
        "elif input_tipe_konsumen == \"member\":\n",
        "    print(\"Anda adalah member\") #output yang dihasilkan dari input member\n",
        "else:\n",
        "    print(\"Tipe konsumen tidak valid\")  #output dari kondisi yang tidak memenuhi kedua kondisi diatas\n",
        "\n",
        "input_jumlah_belanja = int(input(\"Masukkan jumlah belanja: \")) #menginput jumlah belanja konsumen\n",
        "if input_tipe_konsumen == \"non-member\":\n",
        "    if input_jumlah_belanja < 100000:\n",
        "        print(\"Total Belanja: \",+input_jumlah_belanja) #bagi non-member, total belanja dibawah 100rb tidak akan mendapat diskon\n",
        "    elif 200000 >input_jumlah_belanja>= 100000:\n",
        "        Ttl_blnja_nmem1 = input_jumlah_belanja - ((input_jumlah_belanja *3)/100) #operasi aritmatika untuk menentukan total belanja yang harus dibayar ketika mendapat diskon 3%\n",
        "        print(\"Selamat!! Anda mendapat diskon sebesar 3% karena berbelanja lebih dari Rp.100.000\") #hanya detail yang saya tambahkan\n",
        "        print(\"Total Belanja: Rp. \",+Ttl_blnja_nmem1) #output yang dihasilkan apabila total belanja mencapai 100rb\n",
        "    elif input_jumlah_belanja >= 200000:\n",
        "        Ttl_blnja_nmem2 = input_jumlah_belanja - ((input_jumlah_belanja *4)/100)  #operasi aritmatika untuk menentukan total belanja yang harus dibayar ketika mendapat diskon 4%\n",
        "        print(\"Selamat!! Anda mendapat diskon sebesar 4% karena berbelanja lebih dari Rp.200.000\")  #hanya detail yang saya tambahkan\n",
        "        print(\"Total Belanja: Rp. \",+Ttl_blnja_nmem2) #output yang dihasilkan apabila total belanja mencapai 200rb\n",
        "elif input_tipe_konsumen == \"member\":\n",
        "    if input_jumlah_belanja < 100000:\n",
        "        ttl_blnja_mem = float(input_jumlah_belanja - ((input_jumlah_belanja *2)/100)) #operasi aritmatika untuk menentukan total belanja yang harus dibayar ketika mendapat diskon 2%\n",
        "        print(\"Selamat!! Anda mendapat diskon sebesar 2% karena Anda adalah member\")  #hanya detail yang saya tambahkan\n",
        "        print(\"Total Belanja: Rp. \",+ttl_blnja_mem) #setiap belanja, member akan mendapat diskon sebesar 2%\n",
        "    elif 200000 >input_jumlah_belanja>= 100000:\n",
        "        Ttl_blnja_mem2 = float(input_jumlah_belanja - ((input_jumlah_belanja *5)/100))  ##operasi aritmatika untuk menentukan total belanja yang harus dibayar ketika mendapat diskon 5%\n",
        "        print(\"Selamat!! Anda mendapat diskon sebesar 5% karena Anda adalah member dan total belanja Anda mencapai Rp.100.000\") #hanya detail yang saya tambahkan\n",
        "        print(\"Diskon 2% karena Anda merupakan member dan diskon 3% karena total belanja Anda mencapai Rp.100.000\") #hanya detail yang saya tambahkan\n",
        "        print(\"Total Belanja: Rp. \",+Ttl_blnja_mem2)  #output yang dihasilkan apabila total belanja mencapai 100rb dan kustomer merupakan member\n",
        "    elif input_jumlah_belanja >= 200000:\n",
        "        Ttl_blnja_mem3 = float(input_jumlah_belanja - ((input_jumlah_belanja *6)/100))  #operasi aritmatika untuk menentukan total belanja yang harus dibayar ketika mendapat diskon 6%\n",
        "        print(\"Selamat!! Anda mendapat diskon sebesar 6% karena Anda adalah member dan total belanja Anda mencapai Rp.200.000\") #hanya detail yang saya tambahkan\n",
        "        print(\"Diskon 2% karena Anda merupakan member dan diskon 4% karena total belanja Anda mencapai Rp.200.000\") #hanya detail yang saya tambahkan\n",
        "        print(\"Total Belanja: Rp. \",+Ttl_blnja_mem3)  #output yang dihasilkan apabila total belanja mencapai 200rb dan kustomer merupakan member\n",
        "else:\n",
        "  print(\"error\")  #output yang dihasilkan apabila kondisi tidak sesuai dengan 2 kondisi diatas\n",
        "print(\"\")\n",
        "print(\"Terima kasih karena telah berbelanja\") #hanya detail yang saya tambahkan\n",
        "\n",
        "\n",
        "\n",
        "\n"
      ],
      "metadata": {
        "colab": {
          "base_uri": "https://localhost:8080/"
        },
        "id": "n-X6YgHhi_Y_",
        "outputId": "8ae03d1a-99c1-4c27-af88-ee0b70fd1e5e"
      },
      "execution_count": null,
      "outputs": [
        {
          "output_type": "stream",
          "name": "stdout",
          "text": [
            "Masukkan tipe konsumen: member\n",
            "Anda adalah member\n",
            "Masukkan jumlah belanja: 250000\n",
            "Selamat!! Anda mendapat diskon sebesar 6% karena Anda adalah member dan total belanja Anda mencapai Rp.200.000\n",
            "Diskon 2% karena Anda merupakan member dan diskon 4% karena total belanja Anda mencapai Rp.200.000\n",
            "Total Belanja: Rp.  235000.0\n",
            "\n",
            "Terima kasih karena telah berbelanja\n"
          ]
        }
      ]
    },
    {
      "cell_type": "code",
      "source": [
        "#Latihan 4 # kode program untuk membuat user baru pada sebuah sistem\n",
        "input_username = input(\"Masukkan username: \") #menginput username\n",
        "input_email = input(\"Masukkan email: \") #menginput email\n",
        "input_password = input(\"Masukkan password: \") #menginput password\n",
        "\n",
        "if input_username == \"\" :\n",
        "  print(\"username tidak boleh kosong\")  #output yang dihasilkan apabila kondisi username tidak diisi\n",
        "elif \"@\" not in input_email : #not in disini berfungsi sebagai tanda apabila @ tidak disertakan\n",
        "  print(\"Email harus menggunakan @\")  #output yang dihasilkan apabila email tidak menggunakan tanda \"@\"\"\n",
        "elif len(input_password) <= 8 : #mengembalikan Long yang berisi jumlah karakter dalam string atau jumlah byte yang diperlukan untuk menyimpan variabel\n",
        "  print(\"Password minimal 8 karakter\")  #output yang dihasilkan apabila password kurang dari 8 karakter\n",
        "else :\n",
        "  print(\"Selamat Datang Pengguna Baru\") #output hanya untuk detail saja"
      ],
      "metadata": {
        "id": "Y_fmray57QeA",
        "colab": {
          "base_uri": "https://localhost:8080/"
        },
        "outputId": "c861e72f-a4f3-4e2d-e9b9-bb80aa9e8e71"
      },
      "execution_count": null,
      "outputs": [
        {
          "output_type": "stream",
          "name": "stdout",
          "text": [
            "Masukkan username: mayza lutfi\n",
            "Masukkan email: mayzalutfixxx@gmail.com\n",
            "Masukkan password: MagelangAsik\n",
            "Selamat Datang Pengguna Baru\n"
          ]
        }
      ]
    }
  ]
}