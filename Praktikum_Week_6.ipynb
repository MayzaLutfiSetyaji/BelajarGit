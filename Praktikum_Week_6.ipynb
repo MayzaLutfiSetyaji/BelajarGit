{
  "nbformat": 4,
  "nbformat_minor": 0,
  "metadata": {
    "colab": {
      "provenance": [],
      "authorship_tag": "ABX9TyPeHQjlN8G0HL0nEV/1pN0Z",
      "include_colab_link": true
    },
    "kernelspec": {
      "name": "python3",
      "display_name": "Python 3"
    },
    "language_info": {
      "name": "python"
    }
  },
  "cells": [
    {
      "cell_type": "markdown",
      "metadata": {
        "id": "view-in-github",
        "colab_type": "text"
      },
      "source": [
        "<a href=\"https://colab.research.google.com/github/MayzaLutfiSetyaji/BelajarGit/blob/master/Praktikum_Week_6.ipynb\" target=\"_parent\"><img src=\"https://colab.research.google.com/assets/colab-badge.svg\" alt=\"Open In Colab\"/></a>"
      ]
    },
    {
      "cell_type": "code",
      "source": [
        "#Latihan 1 #membuat kode program untuk segitiga sama sisi\n",
        "t=int(input(\"Masukkan Tinggi Segitiga: \")) #untuk menginput tinggi segitiga\n",
        "print()\n",
        "\n",
        "for i in range(t): #untuk membuat tinggi segitiga\n",
        "  for j in range(t-i):\n",
        "    print(' ',end='')#untuk mencetak spasi di setiap baris segitiga\n",
        "\n",
        "  for k in range(i+1):\n",
        "    print('* ',end='') #untuk mencetak bintang pada setiap baris segitiga\n",
        "  print() #untuk menampilkan list dari variabel \"t\""
      ],
      "metadata": {
        "colab": {
          "base_uri": "https://localhost:8080/"
        },
        "id": "f_1HFIWBieyp",
        "outputId": "8a86a63f-9de2-4e5b-9edf-ea2496cd11bc"
      },
      "execution_count": null,
      "outputs": [
        {
          "output_type": "stream",
          "name": "stdout",
          "text": [
            "Masukkan Tinggi Segitiga: 5\n",
            "\n",
            "     * \n",
            "    * * \n",
            "   * * * \n",
            "  * * * * \n",
            " * * * * * \n"
          ]
        }
      ]
    },
    {
      "cell_type": "code",
      "source": [
        "#Latihan 2 #membuat segitiga pascal\n",
        "def segitiga_pascal(n): #def merupakan kata kunci untuk mendefinisikan fungsi dari segitiga_pascal\n",
        "  if n <= 0:\n",
        "    return [] #untuk mengembalikan sebuah list kosong\n",
        "  segitiga = [[1]]\n",
        "  for i in range(1, n):\n",
        "    row = [1] #hanya sebuah variabel yang berisi angka 1\n",
        "    for j in range(1, i):\n",
        "      row.append(segitiga[i-1][j-1] + segitiga[i-1][j])\n",
        "    row.append(1) #berfungsi utnuk menambahkan angka 1 sebagai elemen terakhir pada setiap baris segitiga pascal\n",
        "    segitiga.append(row) #menambahkan list row ke dalam list segitiga (segitiga_pascal)\n",
        "  return segitiga\n",
        "\n",
        "num_rows = int(input(\"Masukkan jumlah baris: \"))\n",
        "segitiga = segitiga_pascal(num_rows) #num-rows berisi jumlah baris yang diinput dari variabel num_rows sebelumnya\n",
        "\n",
        "for i in range(num_rows):\n",
        "  # Hitung spasi\n",
        "  spaces = \" \" * (num_rows - i - 1)\n",
        "  print(spaces, end=\" \")\n",
        "  for j in range(i + 1):\n",
        "    print(segitiga[i][j], end=\" \")\n",
        "  print()"
      ],
      "metadata": {
        "id": "MgSwoI5pnvZF",
        "colab": {
          "base_uri": "https://localhost:8080/"
        },
        "outputId": "83dcc05b-3f06-43da-9fa9-f6279a6f5ce4"
      },
      "execution_count": 3,
      "outputs": [
        {
          "output_type": "stream",
          "name": "stdout",
          "text": [
            "Masukkan jumlah baris: 5\n",
            "     1 \n",
            "    1 1 \n",
            "   1 2 1 \n",
            "  1 3 3 1 \n",
            " 1 4 6 4 1 \n"
          ]
        }
      ]
    },
    {
      "cell_type": "code",
      "source": [
        "#Latihan 3 #membuat kode program untuk dapat menampilkan jumlah angka dalam satu baris segitiga pascal.\n",
        "def segitiga_pascal(n): #def merupakan kata kunci untuk mendefinisikan fungsi dari segitiga_pascal\n",
        "  if n <= 0:\n",
        "    return [] #untuk mengembalikan sebuah list kosong\n",
        "  segitiga = [[1]]\n",
        "  for i in range(1, n):\n",
        "    row = [1] #hanya sebuah variabel yang berisi angka 1\n",
        "    for j in range(1, i):\n",
        "      row.append(segitiga[i-1][j-1] + segitiga[i-1][j])\n",
        "    row.append(1) #berfungsi utnuk menambahkan angka 1 sebagai elemen terakhir pada setiap baris segitiga pascal\n",
        "    segitiga.append(row) #menambahkan list row ke dalam list segitiga (segitiga_pascal)\n",
        "  return segitiga\n",
        "\n",
        "num_rows = int(input(\"Masukkan jumlah baris: \"))\n",
        "segitiga = segitiga_pascal(num_rows) #num-rows berisi jumlah baris yang diinput dari variabel num_rows sebelumnya\n",
        "\n",
        "for i in range(num_rows):\n",
        "  # Hitung spasi\n",
        "  spaces = \" \" * (num_rows - i - 1)\n",
        "  print(spaces, end=\" \")\n",
        "  for j in range(i + 1):\n",
        "    print(segitiga[i][j], end=\" \")\n",
        "  print()\n",
        "\n",
        "#untuk menampilkan angka-angka yang ada di baris tertentu\n",
        "input_baris = int(input(\"Masukkan baris yang ingin ditampilkan: \"))\n",
        "for k in range(1, input_baris + 1):\n",
        "  print(segitiga[input_baris - 1][k - 1], end=\" \")"
      ],
      "metadata": {
        "colab": {
          "base_uri": "https://localhost:8080/"
        },
        "id": "peSz-MhHxJMf",
        "outputId": "a69bbd7b-c9dc-48ba-af03-598552fcee63"
      },
      "execution_count": 14,
      "outputs": [
        {
          "output_type": "stream",
          "name": "stdout",
          "text": [
            "Masukkan jumlah baris: 5\n",
            "     1 \n",
            "    1 1 \n",
            "   1 2 1 \n",
            "  1 3 3 1 \n",
            " 1 4 6 4 1 \n",
            "Masukkan baris yang ingin ditampilkan: 3\n",
            "1 2 1 "
          ]
        }
      ]
    }
  ]
}