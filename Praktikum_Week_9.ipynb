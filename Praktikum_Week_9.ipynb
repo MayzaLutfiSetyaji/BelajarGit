{
  "nbformat": 4,
  "nbformat_minor": 0,
  "metadata": {
    "colab": {
      "provenance": [],
      "authorship_tag": "ABX9TyM2wPPFt7Sd0aYdLTXATtM+",
      "include_colab_link": true
    },
    "kernelspec": {
      "name": "python3",
      "display_name": "Python 3"
    },
    "language_info": {
      "name": "python"
    }
  },
  "cells": [
    {
      "cell_type": "markdown",
      "metadata": {
        "id": "view-in-github",
        "colab_type": "text"
      },
      "source": [
        "<a href=\"https://colab.research.google.com/github/MayzaLutfiSetyaji/BelajarGit/blob/master/Praktikum_Week_9.ipynb\" target=\"_parent\"><img src=\"https://colab.research.google.com/assets/colab-badge.svg\" alt=\"Open In Colab\"/></a>"
      ]
    },
    {
      "cell_type": "code",
      "source": [
        "#Latihan 1 #Menjelaskan pengertian dari list, tuple, dictionary, dan set\n",
        "List = [\n",
        "        \"-List merupakan sebuah tipe data yang berisi elemen atau nilai secara urut dan bersifat mutable\",\n",
        "        \"Elemen pada tipe data list diurutkan dari indeks 0\",\n",
        "        \"Cara membuat list adalah dengan menggunakan tanda kurung lengkung setelah nama variabel atau menggunakan list()\"\n",
        "]\n",
        "\n",
        "Tuple = (\n",
        "        \"\\n-Tuple merupakan sebuah tipe data yang berisi elemen atau nilai secara urut dan bersifat immutable\",\n",
        "        \"Elemen pada tipe data tuple diurutkan dari indeks 0\",\n",
        "        \"Cara membuat tuple adalah dengan menggunakan tanda kurung biasa setelah nama variabel atau menggunakan tuple()\"\n",
        ")\n",
        "\n",
        "Dict = {\n",
        "    \"Pengertian:\": \"-Dictionary merupakan sebuah tipe data koleksi yang elemennya hanya dapat diakses menggunakan key\",\n",
        "    \"Key:\": \"Key berguna untuk mengakses elemen yang ada di dictionary dan tidak boleh sama dengan key untuk elemen yang lain\",\n",
        "    \"Cara\": \"Cara membuatnya adalah dengan menggunakan kurung kurawa '{}' atau 'dict()'\"\n",
        "}\n",
        "\n",
        "Set = {\n",
        "    \"Pengertian\": \"-Set merupakan sebuah tipe data koleksi yang elemennya hanya dapat diakses dengan key\",\n",
        "    \"Value\": \"Bedanya dengan dictionary, yaitu elemennya bersifat unik dan tidak boleh sama dengan elemen yang ada di key lain\",\n",
        "    \"Cara\": \"Cara membuatnya adalah dengan menggunakan kurung kurawal '{}' atau 'set()'\"\n",
        "}\n",
        "for i in List:\n",
        "  print(i)\n",
        "\n",
        "for j in Tuple:\n",
        "  print(j)\n",
        "print()\n",
        "\n",
        "print(Dict[\"Pengertian:\"])\n",
        "print(Dict[\"Key:\"])\n",
        "print(Dict[\"Cara\"])\n",
        "print()\n",
        "print(Set[\"Pengertian\"])\n",
        "print(Set[\"Value\"])\n",
        "print(Set[\"Cara\"])"
      ],
      "metadata": {
        "colab": {
          "base_uri": "https://localhost:8080/"
        },
        "id": "zkOjFSzvU26h",
        "outputId": "a24709c2-b854-4314-a677-53a2fdb10c8c"
      },
      "execution_count": null,
      "outputs": [
        {
          "output_type": "stream",
          "name": "stdout",
          "text": [
            "-List merupakan sebuah tipe data yang berisi elemen atau nilai secara urut dan bersifat mutable\n",
            "Elemen pada tipe data list diurutkan dari indeks 0\n",
            "Cara membuat list adalah dengan menggunakan tanda kurung lengkung setelah nama variabel atau menggunakan list()\n",
            "\n",
            "-Tuple merupakan sebuah tipe data yang berisi elemen atau nilai secara urut dan bersifat immutable\n",
            "Elemen pada tipe data tuple diurutkan dari indeks 0\n",
            "Cara membuat tuple adalah dengan menggunakan tanda kurung biasa setelah nama variabel atau menggunakan tuple()\n",
            "\n",
            "-Dictionary merupakan sebuah tipe data koleksi yang elemennya hanya dapat diakses menggunakan key\n",
            "Key berguna untuk mengakses elemen yang ada di dictionary dan tidak boleh sama dengan key untuk elemen yang lain\n",
            "Cara membuatnya adalah dengan menggunakan kurung kurawa '{}' atau 'dict()'\n",
            "\n",
            "-Set merupakan sebuah tipe data koleksi yang elemennya hanya dapat diakses dengan key\n",
            "Bedanya dengan dictionary, yaitu elemennya bersifat unik dan tidak boleh sama dengan elemen yang ada di key lain\n",
            "Cara membuatnya adalah dengan menggunakan kurung kurawal '{}' atau 'set()'\n"
          ]
        }
      ]
    },
    {
      "cell_type": "code",
      "source": [
        "#Latihan 2 #Membuat kode program untuk mengolah data mahasiswa menggunakan tipe data koleksi list dan teknik for loop\n",
        "Hobi = \"Badminton\", \"Jalan-jalan\" #Variabel Hobi yang menyimpan nilai dengan berbagai hobi yang disukai mahasiswa\n",
        "print(\"=====Data Mahasiswa=====\")\n",
        "Data = [ #Disini, saya menggunakan tipe data koleksi list\n",
        "    \"Nama: Mayza Lutfi Setyaji\",\n",
        "    \"\\nKelas: Rombel 1 Angkatan 2024\", #\\n diawal string digunakan untuk memindahkan string ke baris baru\n",
        "    \"\\nTempat/Tanggal Lahir: Bandung, 06 Mei 2006\",\n",
        "    \"\\nNo Hp: 081939617314\",\n",
        "    \"\\nAlamat: Desa Jatiroto, Buayan, Kebumen, Jawa Tengah\",\n",
        "    \"\\nHobi 1: \"  + Hobi[0], #Memanggil nilai variabel dengan indeks 0\n",
        "    \"\\nHobi 2: \"  + Hobi[1] #Memanggil nilai variabel dengan indeks ke 1\n",
        "]\n",
        "\n",
        "for i in Data:\n",
        "  print(i)"
      ],
      "metadata": {
        "colab": {
          "base_uri": "https://localhost:8080/"
        },
        "id": "W6GpSaCyEJvU",
        "outputId": "b2727b2c-5b3e-45b0-a9e0-653d52a4586b"
      },
      "execution_count": null,
      "outputs": [
        {
          "output_type": "stream",
          "name": "stdout",
          "text": [
            "=====Data Mahasiswa=====\n",
            "Nama: Mayza Lutfi Setyaji\n",
            "\n",
            "Kelas: Rombel 1 Angkatan 2024\n",
            "\n",
            "Tempat/Tanggal Lahir: Bandung, 06 Mei 2006\n",
            "\n",
            "No Hp: 081939617314\n",
            "\n",
            "Alamat: Desa Jatiroto, Buayan, Kebumen, Jawa Tengah\n",
            "\n",
            "Hobi 1: Badminton\n",
            "\n",
            "Hobi 2: Jalan-jalan\n"
          ]
        }
      ]
    }
  ]
}