{
  "nbformat": 4,
  "nbformat_minor": 0,
  "metadata": {
    "colab": {
      "provenance": [],
      "authorship_tag": "ABX9TyOCCnjUqjjF3vRjPWNa10L6",
      "include_colab_link": true
    },
    "kernelspec": {
      "name": "python3",
      "display_name": "Python 3"
    },
    "language_info": {
      "name": "python"
    }
  },
  "cells": [
    {
      "cell_type": "markdown",
      "metadata": {
        "id": "view-in-github",
        "colab_type": "text"
      },
      "source": [
        "<a href=\"https://colab.research.google.com/github/MayzaLutfiSetyaji/BelajarGit/blob/master/Praktikum_Week_9.ipynb\" target=\"_parent\"><img src=\"https://colab.research.google.com/assets/colab-badge.svg\" alt=\"Open In Colab\"/></a>"
      ]
    },
    {
      "cell_type": "code",
      "execution_count": 24,
      "metadata": {
        "colab": {
          "base_uri": "https://localhost:8080/"
        },
        "id": "5CQz1Ee8oDSz",
        "outputId": "c6db365d-ef15-4744-c8dd-a0459611cfd7"
      },
      "outputs": [
        {
          "output_type": "stream",
          "name": "stdout",
          "text": [
            "Masukkan Data yang ingin ditampilkan: Hobi\n",
            "Badminton Jalan-jalan\n"
          ]
        }
      ],
      "source": [
        "#Latihan2 #Membuat data diri yang ingin ditampilkan\n",
        "#Menggunakan tipe data kolektif dictionary\n",
        "import builtins #Memanggil fungsi bawaan python\n",
        "data = builtins.input(\"Masukkan Data yang ingin ditampilkan: \") #Fungsi input bawaan python\n",
        "\n",
        "\n",
        "if data == \"Nama\":\n",
        "  from Dicweek9 import nama\n",
        "  print(nama)\n",
        "elif data == \"Kelas\":\n",
        "  from Dicweek9 import kelas\n",
        "  print(kelas)\n",
        "elif data == \"Alamat\":\n",
        "  from Dicweek9 import alamat\n",
        "  print(alamat)\n",
        "elif data == \"Tempat Tanggal Lahir\":\n",
        "  from Dicweek9 import alamat\n",
        "  print(alamat)\n",
        "elif data == \"Nomor Hp\":\n",
        "  from Dicweek9 import no_hp\n",
        "  print(no_hp)\n",
        "elif data == \"Hobi\":\n",
        "  from Dicweek9 import hobi1, hobi2\n",
        "  print(hobi1, hobi2)\n",
        "else:\n",
        "  print(\"Data yang ingin ditampilkan tidak ditemukan\")"
      ]
    }
  ]
}