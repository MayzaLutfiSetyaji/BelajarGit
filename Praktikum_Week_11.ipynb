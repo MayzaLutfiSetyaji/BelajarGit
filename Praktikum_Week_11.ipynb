{
  "nbformat": 4,
  "nbformat_minor": 0,
  "metadata": {
    "colab": {
      "provenance": [],
      "authorship_tag": "ABX9TyMfxT5SwFkhbS1hkLyBHhvr",
      "include_colab_link": true
    },
    "kernelspec": {
      "name": "python3",
      "display_name": "Python 3"
    },
    "language_info": {
      "name": "python"
    }
  },
  "cells": [
    {
      "cell_type": "markdown",
      "metadata": {
        "id": "view-in-github",
        "colab_type": "text"
      },
      "source": [
        "<a href=\"https://colab.research.google.com/github/MayzaLutfiSetyaji/BelajarGit/blob/master/Praktikum_Week_11.ipynb\" target=\"_parent\"><img src=\"https://colab.research.google.com/assets/colab-badge.svg\" alt=\"Open In Colab\"/></a>"
      ]
    },
    {
      "cell_type": "code",
      "execution_count": 3,
      "metadata": {
        "colab": {
          "base_uri": "https://localhost:8080/"
        },
        "id": "Fz7Y8hDny9gJ",
        "outputId": "ec742bae-9809-44fc-fcdf-d9220279dec9"
      },
      "outputs": [
        {
          "output_type": "stream",
          "name": "stdout",
          "text": [
            "Beberapa opsi bangun datar yang tersedia: \n",
            "1. Lingkaran \n",
            "2. Persegi\n",
            "Pilih opsi bangun datar untuk menghitung luasnya: 2\n",
            "Masukkan sisi persegi: 5\n",
            "Luas persegi adalah:  25\n"
          ]
        }
      ],
      "source": [
        "#Latihan 1 #Membuat kode program yang mengimmport modul\n",
        "print(\"Beberapa opsi bangun datar yang tersedia: \"\n",
        "    \"\\n1. Lingkaran\", \"\\n2. Persegi\"\n",
        "    )\n",
        "import math #mengimport modul math bawaan dari Python\n",
        "opsi = input(\"Pilih opsi bangun datar untuk menghitung luasnya: \") #memilih opsi luas bangun datar yang ingin dicari\n",
        "from matematika import L_ling, L_persegi #mengimport fungsi dari modul matematika yang dibuat di notepad\n",
        "if opsi == \"1\" or opsi == \"matematika\": #seleksi kondisi pertama\n",
        "  r = float(input(\"Masukkan jari-jari lingkaran: \")) #input jari-jari berupa tipe data float\n",
        "  print(\"Luas lingkaran adalah: \", L_ling(r)) #menampilkan luas lingkaran yang telah dihitung\n",
        "elif opsi == \"2\" or opsi == \"persegi\": #seleksi kondisi kedua\n",
        "  s = int(input(\"Masukkan sisi persegi: \")) #input sisi persegi bertipe data integer\n",
        "  print(\"Luas persegi adalah: \", L_persegi(s))#menampilkan luas persegi yang telah dihitung\n",
        "else: #seleksi kondisi ketiga\n",
        "  print(\"Opsi yang dipilih tidak tersedia\")"
      ]
    },
    {
      "cell_type": "code",
      "source": [
        "#Latihan 2 #Menggunakan 5 fungsi yang ada di modul bawaan python\n",
        "import math #mengimport modul math bawaan dari Python\n",
        "\n",
        "\"\"\"\n",
        "1. Fungsi akar kuadrat dari bilangan x\n",
        "    Menggunakan fungsi math.sqrt(x)\n",
        "\"\"\"\n",
        "hasil_1 = math.sqrt(16)\n",
        "print(\"1. Hasil akar dari 16: \", hasil_1)\n",
        "\n",
        "\"\"\"\n",
        "2. Fungsi eksponen dari bilangan x\n",
        "    Menggunakan fungsi math.exp(x)\n",
        "\"\"\"\n",
        "hasil_2 = math.exp(2)\n",
        "print(\"2. Hasil eksponen dari 2: \", hasil_2)\n",
        "\n",
        "\"\"\"\n",
        "3. Fungsi menghitung x pangkat y\n",
        "    Menggunakan fungsi math.pow(x, y)\n",
        "\"\"\"\n",
        "hasil_3 = math.pow(2, 3)\n",
        "print(\"3. Hasil 2 pangkat 3: \", hasil_3)\n",
        "\n",
        "\"\"\"\n",
        "4. Fungsi konstanta yang merepresentasikan nilai pi\n",
        "    Menggunakan fungsi math.pi\n",
        "\"\"\"\n",
        "hasil_4 = math.pi\n",
        "print(\"4. Nilai pi: \", hasil_4)\n",
        "\n",
        "\"\"\"\n",
        "5. Fungsi menghitung nilai sius, kosinus, dan tangen dari sudut x (dalamm radian)\n",
        "    Menggunakan fungsi math.sin(x), math.cos(x), dan math.tan(x)\n",
        "\"\"\"\n",
        "hasil_5 = math.sin(math.pi/2)\n",
        "hasil_6 = math.cos(math.pi/2)\n",
        "hasil_7 = math.tan(math.pi/2)\n",
        "\n",
        "print(\"5. Nilai sin(pi/2): \", hasil_5,\n",
        "      \"\\nNilai cos(pi/2): \", hasil_6,\n",
        "      \"\\nNilai tan(pi/2): \", hasil_7)\n"
      ],
      "metadata": {
        "colab": {
          "base_uri": "https://localhost:8080/"
        },
        "id": "a-Y0fiWmupyz",
        "outputId": "11015336-c3e8-488e-8f16-6441146ff2b2"
      },
      "execution_count": 5,
      "outputs": [
        {
          "output_type": "stream",
          "name": "stdout",
          "text": [
            "1. Hasil akar dari 16:  4.0\n",
            "2. Hasil eksponen dari 2:  7.38905609893065\n",
            "3. Hasil 2 pangkat 3:  8.0\n",
            "4. Nilai pi:  3.141592653589793\n",
            "5. Nilai sin(pi/2):  1.0 \n",
            "Nilai cos(pi/2):  6.123233995736766e-17 \n",
            "Nilai tan(pi/2):  1.633123935319537e+16\n"
          ]
        }
      ]
    }
  ]
}